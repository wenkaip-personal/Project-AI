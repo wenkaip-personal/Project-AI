{
 "cells": [
  {
   "cell_type": "markdown",
   "metadata": {},
   "source": [
    "We'll create a simple simulator where the observed data $X$ is generated from a parameter $\\theta$ squared plus some Gaussian noise. We'll use a uniform prior for $\\theta$ ranging from 0 to 1, and we'll aim to infer the posterior distribution of $\\theta$ given a true observation $x=0.5$."
   ]
  },
  {
   "cell_type": "markdown",
   "metadata": {},
   "source": [
    "### Step 1: Define the Simulator\n",
    "\n",
    "Our simulator function takes a parameter $\\theta$ and returns an observation $X$ based on the equation $X = \\theta^2 + \\text{Gaussian noise}$."
   ]
  },
  {
   "cell_type": "code",
   "execution_count": 1,
   "metadata": {},
   "outputs": [
    {
     "name": "stderr",
     "output_type": "stream",
     "text": [
      "/Users/wenkaipan/miniconda3/envs/sbi_env/lib/python3.12/site-packages/tqdm/auto.py:21: TqdmWarning: IProgress not found. Please update jupyter and ipywidgets. See https://ipywidgets.readthedocs.io/en/stable/user_install.html\n",
      "  from .autonotebook import tqdm as notebook_tqdm\n"
     ]
    }
   ],
   "source": [
    "import torch\n",
    "from sbi import utils as utils\n",
    "from sbi.inference.base import infer\n",
    "\n",
    "def simulator(theta):\n",
    "    noise = torch.randn(theta.shape) * 0.1  # Gaussian noise with standard deviation of 0.1\n",
    "    return theta**2 + noise"
   ]
  },
  {
   "cell_type": "markdown",
   "metadata": {},
   "source": [
    "### Step 2: Define the Prior\n",
    "\n",
    "We define a uniform prior for $\\theta$ in the range [0, 1]."
   ]
  },
  {
   "cell_type": "code",
   "execution_count": 2,
   "metadata": {},
   "outputs": [],
   "source": [
    "prior = utils.BoxUniform(low=-torch.ones(1), high=torch.ones(1))"
   ]
  },
  {
   "cell_type": "markdown",
   "metadata": {},
   "source": [
    "### Step 3: Generate True Observation\n",
    "\n",
    "We set the true observation $x=0.5$, which we aim to explain with our model and infer the posterior distribution of $\\theta$."
   ]
  },
  {
   "cell_type": "code",
   "execution_count": 3,
   "metadata": {},
   "outputs": [],
   "source": [
    "true_observation = torch.tensor([0.5])"
   ]
  },
  {
   "cell_type": "markdown",
   "metadata": {},
   "source": [
    "### Step 4: Run Inference\n",
    "\n",
    "We use the `infer` function from `sbi` to perform inference. We'll use Sequential Neural Posterior Estimation (SNPE) as our inference method and generate 1000 simulations."
   ]
  },
  {
   "cell_type": "code",
   "execution_count": 4,
   "metadata": {},
   "outputs": [
    {
     "name": "stderr",
     "output_type": "stream",
     "text": [
      "Running 1000 simulations.: 100%|██████████| 1000/1000 [00:00<00:00, 125913.48it/s]\n",
      "/Users/wenkaipan/miniconda3/envs/sbi_env/lib/python3.12/site-packages/sbi/neural_nets/flow.py:142: UserWarning: In one-dimensional output space, this flow is limited to Gaussians\n",
      "  warn(\"In one-dimensional output space, this flow is limited to Gaussians\")\n"
     ]
    },
    {
     "name": "stdout",
     "output_type": "stream",
     "text": [
      " Neural network successfully converged after 33 epochs."
     ]
    }
   ],
   "source": [
    "posterior = infer(simulator, prior, method='NPE', num_simulations=10000)"
   ]
  },
  {
   "cell_type": "markdown",
   "metadata": {},
   "source": [
    "### Step 5: Sample from the Posterior and Analyze\n",
    "\n",
    "After running the inference, we can sample from the posterior given our true observation and visualize the results."
   ]
  },
  {
   "cell_type": "code",
   "execution_count": 5,
   "metadata": {},
   "outputs": [
    {
     "name": "stderr",
     "output_type": "stream",
     "text": [
      "Drawing 10000 posterior samples: 10917it [00:00, 233894.11it/s]           \n"
     ]
    }
   ],
   "source": [
    "samples = posterior.sample((10000,), x=true_observation)"
   ]
  },
  {
   "cell_type": "markdown",
   "metadata": {},
   "source": [
    "To visualize the posterior distribution of $\\theta$, we can use a simple histogram or a pairplot from `sbi`."
   ]
  },
  {
   "cell_type": "code",
   "execution_count": 7,
   "metadata": {},
   "outputs": [
    {
     "data": {
      "image/png": "[encoded data removed]",
      "text/plain": [
       "<Figure size 500x500 with 1 Axes>"
      ]
     },
     "metadata": {},
     "output_type": "display_data"
    }
   ],
   "source": [
    "from sbi import analysis as analysis\n",
    "\n",
    "_ = analysis.pairplot(samples, limits=[[-1, 1]], figsize=(5, 5))"
   ]
  },
  {
   "cell_type": "markdown",
   "metadata": {},
   "source": [
    "This process demonstrates how to set up a simple simulation-based inference problem using `sbi`. By defining a simulator, specifying a prior, and using observed data, we can infer the posterior distribution of our model parameters using the tools provided by the `sbi` package."
   ]
  }
 ],
 "metadata": {
  "kernelspec": {
   "display_name": "sbi_env",
   "language": "python",
   "name": "python3"
  },
  "language_info": {
   "codemirror_mode": {
    "name": "ipython",
    "version": 3
   },
   "file_extension": ".py",
   "mimetype": "text/x-python",
   "name": "python",
   "nbconvert_exporter": "python",
   "pygments_lexer": "ipython3",
   "version": "3.12.1"
  }
 },
 "nbformat": 4,
 "nbformat_minor": 2
}
