{
 "cells": [
  {
   "cell_type": "markdown",
   "metadata": {},
   "source": [
    "The simulator will be defined as $X = \\theta^2 + \\text{Gaussian noise}$, with $\\theta$ having a uniform prior from 0 to 1. We'll aim to compute the posterior given a true observation $x=0.5$."
   ]
  },
  {
   "cell_type": "markdown",
   "metadata": {},
   "source": [
    "### Step 1: Define the Simulator and Prior\n",
    "\n",
    "First, we define the simulator function and the prior distribution for $\\theta$."
   ]
  },
  {
   "cell_type": "code",
   "execution_count": 1,
   "metadata": {},
   "outputs": [],
   "source": [
    "import torch\n",
    "from torch.distributions import Uniform, Normal\n",
    "\n",
    "# Define the simulator\n",
    "def simulator(theta):\n",
    "    noise = Normal(0, 0.1).sample(theta.shape)  # Gaussian noise with std dev of 0.1\n",
    "    return theta**2 + noise\n",
    "\n",
    "# Define the prior\n",
    "prior = Uniform(-1, 1)"
   ]
  },
  {
   "cell_type": "markdown",
   "metadata": {},
   "source": [
    "### Step 2: Generate Observations for Training\n",
    "\n",
    "To train the flow-based model, we need to generate observations from the simulator under different parameter values sampled from the prior."
   ]
  },
  {
   "cell_type": "code",
   "execution_count": 2,
   "metadata": {},
   "outputs": [],
   "source": [
    "def generate_observations(prior, simulator, num_samples=1000):\n",
    "    thetas = prior.sample((num_samples,))\n",
    "    xs = simulator(thetas)\n",
    "    return thetas, xs\n",
    "\n",
    "# Assuming thetas and xs are generated as before\n",
    "thetas, xs = generate_observations(prior, simulator)\n",
    "\n",
    "# Ensure thetas and xs have a batch dimension\n",
    "# If they don't, you can add one using unsqueeze\n",
    "# For example, if thetas is of shape (1000,), make it (1000, 1) to add a feature dimension\n",
    "thetas = thetas.unsqueeze(-1)\n",
    "xs = xs.unsqueeze(-1)"
   ]
  },
  {
   "cell_type": "markdown",
   "metadata": {},
   "source": [
    "### Step 3: Define and Train the Flow-Based Model\n",
    "\n",
    "We'll use a simple normalizing flow model for this example. The training process involves learning to transform the prior distribution into the posterior distribution given the observations."
   ]
  },
  {
   "cell_type": "code",
   "execution_count": 6,
   "metadata": {},
   "outputs": [
    {
     "name": "stdout",
     "output_type": "stream",
     "text": [
      "Single forward pass successful. Loss: 1.2653210163116455\n",
      "Epoch 0, Loss: 1.2580422163009644\n",
      "Epoch 10, Loss: 1.1641621589660645\n",
      "Epoch 20, Loss: 1.1868393421173096\n",
      "Epoch 30, Loss: 1.115138292312622\n",
      "Epoch 40, Loss: 1.127582311630249\n",
      "Epoch 50, Loss: 0.8965844511985779\n",
      "Epoch 60, Loss: 0.9506657123565674\n",
      "Epoch 70, Loss: 0.9134315252304077\n",
      "Epoch 80, Loss: 0.8870276212692261\n",
      "Epoch 90, Loss: 0.9471795558929443\n",
      "Epoch 100, Loss: 0.8571058511734009\n",
      "Epoch 110, Loss: 0.857761561870575\n",
      "Epoch 120, Loss: 0.867291271686554\n",
      "Epoch 130, Loss: 0.8865364193916321\n",
      "Epoch 140, Loss: 0.8117932677268982\n",
      "Epoch 150, Loss: 0.8566018342971802\n",
      "Epoch 160, Loss: 0.8039844036102295\n",
      "Epoch 170, Loss: 0.8074038028717041\n",
      "Epoch 180, Loss: 0.8322719931602478\n",
      "Epoch 190, Loss: 0.729475200176239\n",
      "Epoch 200, Loss: 0.76966792345047\n",
      "Epoch 210, Loss: 0.8682664036750793\n",
      "Epoch 220, Loss: 0.8607759475708008\n",
      "Epoch 230, Loss: 0.8109410405158997\n",
      "Epoch 240, Loss: 0.7638052701950073\n",
      "Epoch 250, Loss: 0.7094686031341553\n",
      "Epoch 260, Loss: 0.7514944076538086\n",
      "Epoch 270, Loss: 0.7113960981369019\n",
      "Epoch 280, Loss: 0.7543941736221313\n",
      "Epoch 290, Loss: 0.7839537262916565\n",
      "Epoch 300, Loss: 0.7632176280021667\n",
      "Epoch 310, Loss: 0.7919347882270813\n",
      "Epoch 320, Loss: 0.7563729286193848\n",
      "Epoch 330, Loss: 0.728354811668396\n",
      "Epoch 340, Loss: 0.8067440390586853\n",
      "Epoch 350, Loss: 0.6901586055755615\n",
      "Epoch 360, Loss: 0.6926223039627075\n",
      "Epoch 370, Loss: 0.7534781098365784\n",
      "Epoch 380, Loss: 0.6869591474533081\n",
      "Epoch 390, Loss: 0.695652186870575\n",
      "Epoch 400, Loss: 0.710226833820343\n",
      "Epoch 410, Loss: 0.6787849068641663\n",
      "Epoch 420, Loss: 0.7067573666572571\n",
      "Epoch 430, Loss: 0.6873796582221985\n",
      "Epoch 440, Loss: 0.7134554386138916\n",
      "Epoch 450, Loss: 0.6719867587089539\n",
      "Epoch 460, Loss: 0.6912807822227478\n",
      "Epoch 470, Loss: 0.6355053782463074\n",
      "Epoch 480, Loss: 0.7139416933059692\n",
      "Epoch 490, Loss: 0.7243239879608154\n",
      "Epoch 500, Loss: 0.7687966227531433\n",
      "Epoch 510, Loss: 0.7227771282196045\n",
      "Epoch 520, Loss: 0.7016039490699768\n",
      "Epoch 530, Loss: 0.7089176177978516\n",
      "Epoch 540, Loss: 0.690160870552063\n",
      "Epoch 550, Loss: 0.682961642742157\n",
      "Epoch 560, Loss: 0.6830759644508362\n",
      "Epoch 570, Loss: 0.6455921530723572\n",
      "Epoch 580, Loss: 0.6651592254638672\n",
      "Epoch 590, Loss: 0.6970108151435852\n",
      "Epoch 600, Loss: 0.6489571928977966\n",
      "Epoch 610, Loss: 0.676427960395813\n",
      "Epoch 620, Loss: 0.6813705563545227\n",
      "Epoch 630, Loss: 0.606303870677948\n",
      "Epoch 640, Loss: 0.6788132190704346\n",
      "Epoch 650, Loss: 0.7208229303359985\n",
      "Epoch 660, Loss: 0.6913721561431885\n",
      "Epoch 670, Loss: 0.6417176127433777\n",
      "Epoch 680, Loss: 0.6861979365348816\n",
      "Epoch 690, Loss: 0.6689077615737915\n",
      "Epoch 700, Loss: 0.6708812713623047\n",
      "Epoch 710, Loss: 0.6843104362487793\n",
      "Epoch 720, Loss: 0.6906945109367371\n",
      "Epoch 730, Loss: 0.7105582356452942\n",
      "Epoch 740, Loss: 0.6375885009765625\n",
      "Epoch 750, Loss: 0.6274336576461792\n",
      "Epoch 760, Loss: 0.6695134043693542\n",
      "Epoch 770, Loss: 0.7365307211875916\n",
      "Epoch 780, Loss: 0.7210786938667297\n",
      "Epoch 790, Loss: 0.6291035413742065\n",
      "Epoch 800, Loss: 0.6906980872154236\n",
      "Epoch 810, Loss: 0.7223924994468689\n",
      "Epoch 820, Loss: 0.6610654592514038\n",
      "Epoch 830, Loss: 0.6272881031036377\n",
      "Epoch 840, Loss: 0.6877597570419312\n",
      "Epoch 850, Loss: 0.6777944564819336\n",
      "Epoch 860, Loss: 0.6628962755203247\n",
      "Epoch 870, Loss: 0.7130051851272583\n",
      "Epoch 880, Loss: 0.6778128147125244\n",
      "Epoch 890, Loss: 0.6523387432098389\n",
      "Epoch 900, Loss: 0.6084772348403931\n",
      "Epoch 910, Loss: 0.6978815197944641\n",
      "Epoch 920, Loss: 0.6015628576278687\n",
      "Epoch 930, Loss: 0.6771059632301331\n",
      "Epoch 940, Loss: 0.6956499218940735\n",
      "Epoch 950, Loss: 0.6324012279510498\n",
      "Epoch 960, Loss: 0.7044403553009033\n",
      "Epoch 970, Loss: 0.6481329202651978\n",
      "Epoch 980, Loss: 0.6082525849342346\n",
      "Epoch 990, Loss: 0.7260162830352783\n"
     ]
    }
   ],
   "source": [
    "from lampe.inference import FMPE, FMPELoss\n",
    "from torch.optim import Adam\n",
    "\n",
    "# Define the flow-based model for posterior estimation\n",
    "estimator = FMPE(theta_dim=1, x_dim=1, hidden_features=[64] * 5, activation=lambda: torch.nn.ELU())\n",
    "\n",
    "# Define the loss and optimizer\n",
    "loss_fn = FMPELoss(estimator)\n",
    "optimizer = Adam(estimator.parameters(), lr=1e-3)\n",
    "\n",
    "# Now, let's try a single forward pass through the model to check if the dimensions align\n",
    "try:\n",
    "    loss = loss_fn(thetas, xs)\n",
    "    print(\"Single forward pass successful. Loss:\", loss.item())\n",
    "except RuntimeError as e:\n",
    "    print(\"Error during forward pass:\", e)\n",
    "\n",
    "# If the above test is successful, you can proceed with the training loop as before\n",
    "\n",
    "# Training loop\n",
    "num_epochs = 1000\n",
    "for epoch in range(num_epochs):\n",
    "    optimizer.zero_grad()\n",
    "    loss = loss_fn(thetas, xs)\n",
    "    loss.backward()\n",
    "    optimizer.step()\n",
    "    if epoch % 10 == 0:\n",
    "        print(f\"Epoch {epoch}, Loss: {loss.item()}\")"
   ]
  },
  {
   "cell_type": "markdown",
   "metadata": {},
   "source": [
    "### Step 4: Compute the Posterior for the True Observation $x=0.5$\n",
    "\n",
    "After training the model, we can use it to estimate the posterior distribution for the true observation $x=0.5$."
   ]
  },
  {
   "cell_type": "code",
   "execution_count": 7,
   "metadata": {},
   "outputs": [],
   "source": [
    "true_observation = torch.tensor([[0.5]])\n",
    "\n",
    "# Evaluate the model to get the posterior distribution\n",
    "estimator.eval()\n",
    "with torch.no_grad():\n",
    "    posterior = estimator.flow(true_observation)\n",
    "\n",
    "# Sample from the posterior\n",
    "posterior_samples = posterior.sample((1000,))"
   ]
  },
  {
   "cell_type": "markdown",
   "metadata": {},
   "source": [
    "### Visualization\n",
    "\n",
    "\n",
    "Finally, we visualize the posterior samples similar to the `fmpe.ipynb` tutorial."
   ]
  },
  {
   "cell_type": "code",
   "execution_count": 8,
   "metadata": {},
   "outputs": [
    {
     "data": {
      "image/png": "[encoded data removed]",
      "text/plain": [
       "<Figure size 600x400 with 1 Axes>"
      ]
     },
     "metadata": {},
     "output_type": "display_data"
    }
   ],
   "source": [
    "import matplotlib.pyplot as plt\n",
    "import numpy as np\n",
    "\n",
    "# Assuming posterior_samples is a tensor of shape (1000, 1) containing samples from the posterior\n",
    "samples = posterior_samples.numpy().flatten()  # Flatten to ensure it's 1D\n",
    "\n",
    "# Visualization settings\n",
    "plt.figure(figsize=(6, 4))\n",
    "plt.hist(samples, bins=30, density=True, alpha=0.6, color='g')\n",
    "plt.title('Posterior Distribution of $\\\\theta$')\n",
    "plt.xlabel('$\\\\theta$')\n",
    "plt.ylabel('Density')\n",
    "plt.show()"
   ]
  },
  {
   "cell_type": "markdown",
   "metadata": {},
   "source": [
    "This process demonstrates how to use simulation-based inference with flow matching to estimate the posterior distribution of a parameter given an observation. The key steps include defining a simulator, generating observations, training a flow-based model, and finally, using the model to estimate the posterior distribution for a given true observation, followed by visualizing the posterior samples."
   ]
  }
 ],
 "metadata": {
  "kernelspec": {
   "display_name": "sbi_env",
   "language": "python",
   "name": "python3"
  },
  "language_info": {
   "codemirror_mode": {
    "name": "ipython",
    "version": 3
   },
   "file_extension": ".py",
   "mimetype": "text/x-python",
   "name": "python",
   "nbconvert_exporter": "python",
   "pygments_lexer": "ipython3",
   "version": "3.12.1"
  }
 },
 "nbformat": 4,
 "nbformat_minor": 2
}
